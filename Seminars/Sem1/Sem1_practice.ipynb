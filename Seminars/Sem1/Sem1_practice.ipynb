{
 "cells": [
  {
   "cell_type": "markdown",
   "metadata": {},
   "source": [
    "# Анализ данных на Python\n",
    "\n",
    "## Практика. Библиотека `Pandas`. Типы данных. Выборка и генеральная совокупность\n",
    "#### <i>Малкова Ксения, Преподаватель ФКН НИУ ВШЭ, kemalkova@hse.ru</i>"
   ]
  },
  {
   "cell_type": "markdown",
   "metadata": {},
   "source": [
    "Анализируем датасет с информацией об атлетах участвовавших в Олимпийских играх ([olymp.csv](https://github.com/ksumarshmallow/Data-Analysis-Design-24/blob/main/data/olymp.csv)). Скачайте его. Разделитель запятая.\n",
    "\n",
    "Данные содержат следующие признаки:\n",
    "- `ID` - уникальный номер спортсмена\n",
    "- `Name` - имя атлета\n",
    "- `Sex` - пол (мужской - M,  женский - F)\n",
    "- `Age` - возраст атлета\n",
    "- `Height` - рост (в см)\n",
    "- `Weight` - вес (в кг)\n",
    "- `Team` - cтрана\n",
    "- `NOC` - код страны от Олимпийского комитета (3 буквы)\n",
    "- `Games` - год и сезон Олимпийских игр\n",
    "- `Year` - год Олимпийских игр\n",
    "- `Season` - сезон (Зимние - Winter,  Лето - Summer)\n",
    "- `City` - город проведения Олимпийских игр\n",
    "- `Sport` - спортивная дисциплина\n",
    "- `Event` - категория спортивной дисциплины\n",
    "- `Medal` - достоинство медали (Золото - Gold, Серебро - Silver, Бронза - Bronze, Без медали - NaN)"
   ]
  },
  {
   "cell_type": "code",
   "execution_count": 2,
   "metadata": {},
   "outputs": [],
   "source": [
    "import pandas as pd\n",
    "data = pd.read_csv('../../data/olymp.csv')"
   ]
  },
  {
   "cell_type": "markdown",
   "metadata": {},
   "source": [
    "## Задание 1\n",
    "Укажите **город**, в котором проходила Олимпиада, в котором участвовала спортсменка которая идет 10-й в датасэте. "
   ]
  },
  {
   "cell_type": "code",
   "execution_count": null,
   "metadata": {},
   "outputs": [],
   "source": []
  },
  {
   "cell_type": "markdown",
   "metadata": {},
   "source": [
    "## Задание 2\n",
    "Укажите **страну**, за которую выступал спортсмен, идущий 6-м с конца в датасэте. "
   ]
  },
  {
   "cell_type": "code",
   "execution_count": null,
   "metadata": {},
   "outputs": [],
   "source": []
  },
  {
   "cell_type": "markdown",
   "metadata": {},
   "source": [
    "### Задание 3\n",
    "Отметьте все столбцы в которых содержатся данные типа float64"
   ]
  },
  {
   "cell_type": "code",
   "execution_count": null,
   "metadata": {},
   "outputs": [],
   "source": []
  },
  {
   "cell_type": "markdown",
   "metadata": {},
   "source": [
    "## Задание 4\n",
    "Сколько спортсменов наградили медалями, за период, который представлен в датасете? "
   ]
  },
  {
   "cell_type": "code",
   "execution_count": null,
   "metadata": {},
   "outputs": [],
   "source": []
  },
  {
   "cell_type": "markdown",
   "metadata": {},
   "source": [
    "## Задание 5\n",
    "Узнайте размер датасета"
   ]
  },
  {
   "cell_type": "code",
   "execution_count": null,
   "metadata": {},
   "outputs": [],
   "source": []
  },
  {
   "cell_type": "markdown",
   "metadata": {},
   "source": [
    "## Задание 6\n",
    "Датафрейм лежит в переменной df. Вы обратились к его определенной колонке, но случайно стерли код. Однако, остался вывод ячейки:\n",
    "\n",
    "```python\n",
    "0\t Barcelona\n",
    "1\t London\n",
    "2\t Antwerpen\n",
    "3\t Paris\n",
    "4\t Calgary\n",
    "...\t...\n",
    "271111\t Innsbruck\n",
    "271112\t Sochi\n",
    "271113\t Sochi\n",
    "271114\t Nagano \n",
    "271115\t Salt Lake City\n",
    "```\n",
    "\n",
    "К какой колонке Вы обращались? Восстановите код, с помощью которого был получен вывод выше:"
   ]
  },
  {
   "cell_type": "code",
   "execution_count": null,
   "metadata": {},
   "outputs": [],
   "source": []
  },
  {
   "cell_type": "markdown",
   "metadata": {},
   "source": [
    "## Задание 7\n",
    "Датафрейм лежит в переменной df. Вы смотрели на определенные колонки датафрейма, но снова удалили код. К счастью, вывод ячейки все же остался: \n",
    "\n",
    "```python\n",
    "Sport\t Season\t Team\n",
    "0\t Basketball\t Summer\tChina\n",
    "1\t Judo\t Summer\tChina \n",
    "2\t Football\t Summer\t Denmark\n",
    "3\t Tug-Of-War\t Summer\t Denmark/Sweden\n",
    "4\t Speed Skating\t Winter\t Netherlands\n",
    "...\t...\t ...\t ...\n",
    "271111\t Lugo\t Winter\t Poland-1\n",
    "271112\t Ski Jumping\t Winter\t Poland\n",
    "271113\t Ski Jumping\t Winter\t Poland\n",
    "271114\t Bob\t Winter\t Poland\n",
    "271115\t Salt Lake City\t Winter\t Poland\n",
    "```\n",
    "\n",
    "К каким колонкам Вы обращались? Восстановите код, с помощью которого был получен результат выше:"
   ]
  },
  {
   "cell_type": "code",
   "execution_count": null,
   "metadata": {},
   "outputs": [],
   "source": []
  },
  {
   "cell_type": "markdown",
   "metadata": {},
   "source": [
    "## Задание 8\n",
    "Какой вес у атлета под индексом 666? В ответ введите целое число."
   ]
  },
  {
   "cell_type": "code",
   "execution_count": null,
   "metadata": {},
   "outputs": [],
   "source": []
  }
 ],
 "metadata": {
  "kernelspec": {
   "display_name": "data-analysis",
   "language": "python",
   "name": "python3"
  },
  "language_info": {
   "codemirror_mode": {
    "name": "ipython",
    "version": 3
   },
   "file_extension": ".py",
   "mimetype": "text/x-python",
   "name": "python",
   "nbconvert_exporter": "python",
   "pygments_lexer": "ipython3",
   "version": "3.12.4"
  }
 },
 "nbformat": 4,
 "nbformat_minor": 2
}
