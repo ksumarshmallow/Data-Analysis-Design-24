{
 "cells": [
  {
   "cell_type": "markdown",
   "metadata": {},
   "source": [
    "# **Семинар 9. Практика. Линейная регрессия**\n",
    "\n",
    "#### <i>Малкова Ксения, Преподаватель ФКН НИУ ВШЭ, kemalkova@hse.ru</i>"
   ]
  },
  {
   "cell_type": "markdown",
   "metadata": {},
   "source": [
    "Работаем с датасэтом по игрокам **FIFA23** [FIFA2023_el.csv](https://github.com/ksumarshmallow/Data-Analysis-Media-24/blob/main/data/FIFA2023_el.csv)\n",
    "\n",
    "- `Full name` - полное имя\n",
    "- `Value(in Euro)` - стоимость игрока (млн. евро)\n",
    "- `Overall` - общий рейтинг игрока\n",
    "- `Reactions` - оценка реакции игрока\n",
    "- `Dribbling Total` - оценка владения мячом\n",
    "- `Passing Total` - оценка количества и точности передач\n",
    "- `Positions Played` - позиция на которой чаще всего играет футболист (фактическая)\n",
    "- `Best Position` - позиция на которой у игрока наилучшие показатели\n",
    "- `Nationality` - национальность игрока\n",
    "- `Club Name` - клуб за который играет футболист\n",
    "- `Position check` - если Positions Played совпадает с Best Position, то 1, иначе 0 "
   ]
  },
  {
   "cell_type": "code",
   "execution_count": 4,
   "metadata": {},
   "outputs": [
    {
     "data": {
      "text/html": [
       "<div>\n",
       "<style scoped>\n",
       "    .dataframe tbody tr th:only-of-type {\n",
       "        vertical-align: middle;\n",
       "    }\n",
       "\n",
       "    .dataframe tbody tr th {\n",
       "        vertical-align: top;\n",
       "    }\n",
       "\n",
       "    .dataframe thead th {\n",
       "        text-align: right;\n",
       "    }\n",
       "</style>\n",
       "<table border=\"1\" class=\"dataframe\">\n",
       "  <thead>\n",
       "    <tr style=\"text-align: right;\">\n",
       "      <th></th>\n",
       "      <th>Full Name</th>\n",
       "      <th>Value(in Euro)</th>\n",
       "      <th>Overall</th>\n",
       "      <th>Reactions</th>\n",
       "      <th>Dribbling Total</th>\n",
       "      <th>Passing Total</th>\n",
       "      <th>Positions Played</th>\n",
       "      <th>Best Position</th>\n",
       "      <th>Nationality</th>\n",
       "      <th>Club Name</th>\n",
       "      <th>Position check</th>\n",
       "    </tr>\n",
       "  </thead>\n",
       "  <tbody>\n",
       "    <tr>\n",
       "      <th>0</th>\n",
       "      <td>Lionel Messi</td>\n",
       "      <td>17.804495</td>\n",
       "      <td>91</td>\n",
       "      <td>92</td>\n",
       "      <td>94</td>\n",
       "      <td>90</td>\n",
       "      <td>RW</td>\n",
       "      <td>CAM</td>\n",
       "      <td>Argentina</td>\n",
       "      <td>Paris Saint-Germain</td>\n",
       "      <td>0</td>\n",
       "    </tr>\n",
       "    <tr>\n",
       "      <th>1</th>\n",
       "      <td>Karim Benzema</td>\n",
       "      <td>17.974394</td>\n",
       "      <td>91</td>\n",
       "      <td>92</td>\n",
       "      <td>87</td>\n",
       "      <td>83</td>\n",
       "      <td>CF,ST</td>\n",
       "      <td>CF</td>\n",
       "      <td>France</td>\n",
       "      <td>Real Madrid CF</td>\n",
       "      <td>0</td>\n",
       "    </tr>\n",
       "    <tr>\n",
       "      <th>2</th>\n",
       "      <td>Robert Lewandowski</td>\n",
       "      <td>18.246327</td>\n",
       "      <td>91</td>\n",
       "      <td>93</td>\n",
       "      <td>86</td>\n",
       "      <td>79</td>\n",
       "      <td>ST</td>\n",
       "      <td>ST</td>\n",
       "      <td>Poland</td>\n",
       "      <td>FC Barcelona</td>\n",
       "      <td>1</td>\n",
       "    </tr>\n",
       "    <tr>\n",
       "      <th>3</th>\n",
       "      <td>Kevin De Bruyne</td>\n",
       "      <td>18.493001</td>\n",
       "      <td>91</td>\n",
       "      <td>91</td>\n",
       "      <td>87</td>\n",
       "      <td>93</td>\n",
       "      <td>CM,CAM</td>\n",
       "      <td>CM</td>\n",
       "      <td>Belgium</td>\n",
       "      <td>Manchester City</td>\n",
       "      <td>0</td>\n",
       "    </tr>\n",
       "    <tr>\n",
       "      <th>4</th>\n",
       "      <td>Kylian Mbappé</td>\n",
       "      <td>19.065163</td>\n",
       "      <td>91</td>\n",
       "      <td>93</td>\n",
       "      <td>92</td>\n",
       "      <td>80</td>\n",
       "      <td>ST,LW</td>\n",
       "      <td>ST</td>\n",
       "      <td>France</td>\n",
       "      <td>Paris Saint-Germain</td>\n",
       "      <td>0</td>\n",
       "    </tr>\n",
       "  </tbody>\n",
       "</table>\n",
       "</div>"
      ],
      "text/plain": [
       "            Full Name  Value(in Euro)  Overall  Reactions  Dribbling Total  \\\n",
       "0        Lionel Messi       17.804495       91         92               94   \n",
       "1       Karim Benzema       17.974394       91         92               87   \n",
       "2  Robert Lewandowski       18.246327       91         93               86   \n",
       "3     Kevin De Bruyne       18.493001       91         91               87   \n",
       "4       Kylian Mbappé       19.065163       91         93               92   \n",
       "\n",
       "   Passing Total Positions Played Best Position Nationality  \\\n",
       "0             90               RW           CAM   Argentina   \n",
       "1             83            CF,ST            CF      France   \n",
       "2             79               ST            ST      Poland   \n",
       "3             93           CM,CAM            CM     Belgium   \n",
       "4             80            ST,LW            ST      France   \n",
       "\n",
       "             Club Name  Position check  \n",
       "0  Paris Saint-Germain               0  \n",
       "1       Real Madrid CF               0  \n",
       "2         FC Barcelona               1  \n",
       "3      Manchester City               0  \n",
       "4  Paris Saint-Germain               0  "
      ]
     },
     "execution_count": 4,
     "metadata": {},
     "output_type": "execute_result"
    }
   ],
   "source": [
    "import pandas as pd\n",
    "data = pd.read_csv('data/FIFA2023_el.csv')\n",
    "data.head()"
   ]
  },
  {
   "cell_type": "markdown",
   "metadata": {},
   "source": [
    "## Задание 1\n",
    "Мы хотим построить линейную регрессиию, которая будет предсказывать, как различные факторы влияют на стоимость игрока: \n",
    "$$\\text{Value} = w_0 + w_1 \\cdot \\text{Overall} + w_2 \\cdot \\text{Dribbling Total} + w_3 \\cdot \\text{Position check}$$\n",
    "\n",
    "Соотнесите составляющие модели и термины регрессии (**(a)** Предикторы/Независимые переменные, **(b)** Наблюдение, **(c)** Параметры регрессии, **(d)** Целевая/Зависимая переменная). \n",
    "\n",
    "1. Overall,  Dribbling Total, Position check\t\n",
    "2. $w_0$, $w_1$, $w_2$, $w_3$\n",
    "3. Value\n",
    "4. Футболист"
   ]
  },
  {
   "cell_type": "code",
   "execution_count": null,
   "metadata": {},
   "outputs": [],
   "source": []
  },
  {
   "cell_type": "markdown",
   "metadata": {},
   "source": [
    "## Задание 2\n",
    "Обучите модель из прошлого задания и заполните пропуски ($w_0$-$w_3$) в уравнении регрессии по получившимся результатам. Ответы округлите до двух знаков. Разделитель точка. \n",
    "\n",
    "$$\\text{Value} = w_0 + w_1 \\cdot \\text{Overall} + w_2 \\cdot \\text{Dribbling Total} + w_3 \\cdot \\text{Position check}$$"
   ]
  },
  {
   "cell_type": "code",
   "execution_count": null,
   "metadata": {},
   "outputs": [],
   "source": []
  },
  {
   "cell_type": "markdown",
   "metadata": {},
   "source": [
    "## Задание 3\n",
    "Выберите верные утверждения про интерпретацию полученной регрессии\n",
    "- При увеличении общего рейтинга игрока на 1 пункт, стоимость игрока возрастает в 0.14 раз\n",
    "- Если фактическая позиция игрока не совпадает с лучшей, то увеличивает его стоимость на 0.13 млн. евро\n",
    "- Если оценка владения мячом увеличится на 1 пункт это увеличит показатель общего рейтинга на 0.01\n",
    "- При увеличении общего рейтинга игрока на 1%, стоимость игрока возрастает на 0.14 млн. евро\n",
    "- При увеличении общего рейтинга игрока на 1 пункт, стоимость игрока возрастает на 0.14  млн. евро\n",
    "- Если фактическая позиция игрока совпадает с лучшей, его общий рейтинг и оценка владения мячом равны 0, то стоимость такого игрока будет 4.54 млн. евро"
   ]
  },
  {
   "cell_type": "markdown",
   "metadata": {},
   "source": [
    "## Задание 4\n",
    "Посчитайте среднеабсолютную ошибку. Ответ округлите до двух знаков.\n",
    "$$MAE = \\frac{\\sum |y - \\hat{y}|}{n}$$\n",
    "\n",
    "$\\hat{y}$ - Предсказанные моделью значения целевой переменной"
   ]
  },
  {
   "cell_type": "code",
   "execution_count": null,
   "metadata": {},
   "outputs": [],
   "source": []
  },
  {
   "cell_type": "markdown",
   "metadata": {},
   "source": [
    "## Задание 5\n",
    "Посчитайте среднеквадратичную ошибку модели. Ответ округлите до двух знаков.\n",
    "$$MSE = \\frac{\\sum (y - \\hat{y})^2}{n}$$\n",
    "\n",
    "$\\hat{y}$ - Предсказанные моделью значения целевой переменной"
   ]
  },
  {
   "cell_type": "code",
   "execution_count": null,
   "metadata": {},
   "outputs": [],
   "source": []
  },
  {
   "cell_type": "markdown",
   "metadata": {},
   "source": [
    "## Задание 6\n",
    "Рассчитайте коэффициент детерминации модели. Ответ округлите до двух знаков."
   ]
  },
  {
   "cell_type": "code",
   "execution_count": null,
   "metadata": {},
   "outputs": [],
   "source": []
  },
  {
   "cell_type": "markdown",
   "metadata": {},
   "source": [
    "## Задание 7\n",
    "Была построена линейная модель (синяя линяя) по 4 футболистам (оранжевые точки), которая показывает, как общий рейтинг игрока (Overall) влияет на его стоимость (Value). Ответьте на вопросы по построенной модели:\n",
    "\n"
   ]
  },
  {
   "attachments": {
    "image.png": {
     "image/png": "[encoded data removed]"
    }
   },
   "cell_type": "markdown",
   "metadata": {},
   "source": [
    "![image.png](attachment:image.png)"
   ]
  },
  {
   "cell_type": "markdown",
   "metadata": {},
   "source": [
    "- Наибольшая ошибка на игроке ???\n",
    "- Наименьшая ошибка на игроке ???\n",
    "- MSE модели: ???\n",
    "- MAE модели: ???"
   ]
  }
 ],
 "metadata": {
  "kernelspec": {
   "display_name": "data-analysis",
   "language": "python",
   "name": "python3"
  },
  "language_info": {
   "codemirror_mode": {
    "name": "ipython",
    "version": 3
   },
   "file_extension": ".py",
   "mimetype": "text/x-python",
   "name": "python",
   "nbconvert_exporter": "python",
   "pygments_lexer": "ipython3",
   "version": "3.12.4"
  }
 },
 "nbformat": 4,
 "nbformat_minor": 2
}
