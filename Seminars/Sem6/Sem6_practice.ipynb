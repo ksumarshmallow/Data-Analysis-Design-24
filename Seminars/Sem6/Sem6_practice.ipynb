{
 "cells": [
  {
   "cell_type": "markdown",
   "metadata": {},
   "source": [
    "# **Семинар 6. Описательные статистики. Пропуски и выбросы.**\n",
    "\n",
    "#### <i>Малкова Ксения, Преподаватель ФКН НИУ ВШЭ, kemalkova@hse.ru</i>"
   ]
  },
  {
   "cell_type": "markdown",
   "metadata": {},
   "source": [
    "Анализируем датасет с информацией об атлетах участвовавших в Олимпийских играх (**olymp.csv**)\n",
    "\n",
    "Данные содержат следующие признаки:\n",
    "- **`ID`** - уникальный номер спортсмена\n",
    "- **`Name`** - имя атлета\n",
    "- **`Sex`** - пол (мужской - M,  женский - F)\n",
    "- **`Age`** - возраст атлета\n",
    "- **`Height`** - рост (в см)\n",
    "- **`Weight`** - вес (в кг)\n",
    "- **`Team`** - cтрана\n",
    "- **`NOC`** - код страны от Олимпийского комитета (3 буквы)\n",
    "- **`Games`** - год и сезон Олимпийских игр\n",
    "- **`Year`** - год Олимпийских игр\n",
    "- **`Season`** - сезон (Зимние - Winter,  Лето - Summer)\n",
    "- **`City`** - город проведения Олимпийских игр\n",
    "- **`Sport`** - спортивная дисциплина\n",
    "- **`Event`** - категория спортивной дисциплины\n",
    "- **`Medal`** - достоинство медали (Золото - Gold, Серебро - Silver, Бронза - Bronze, Без медали - NaN)\n"
   ]
  },
  {
   "cell_type": "code",
   "execution_count": 1,
   "metadata": {},
   "outputs": [],
   "source": [
    "import pandas as pd\n",
    "# определите свой путь к таблице\n",
    "olmp = pd.read_csv('../../data/olymp.csv')"
   ]
  },
  {
   "cell_type": "markdown",
   "metadata": {},
   "source": [
    "# **Описательные статистики**"
   ]
  },
  {
   "cell_type": "markdown",
   "metadata": {},
   "source": [
    "## Задание 1\n",
    "\n",
    "Какие меры центральной тенденции и вариативности лучше подходят для оценки представленных признаков? \n",
    "\n",
    "| Признак | Описание | Кодировка | МЦТ | Мера разброса |\n",
    "| ------- | -------- | --------- | --- | ------------- | \n",
    "| **Name** | имя атлета | - | ? | ? |\n",
    "| **Sex** | пол | мужской (M), женский (F) | ? | ? |\n",
    "| **Sex** | пол | мужской (0), женский (1) | ? | ? |\n",
    "| **Height** | рост | см | ? | ? |\n",
    "| **Medal** | достоиноство медали | Золото (Gold), Серебро (Silver), Бронза (Bronze), Без медали (NaN) | ? | ? |\n",
    "| **Medal** | достоиноство медали | Золото (3), Серебро (2), Бронза (1), Без медали (0) | ? | ? |\n",
    "\n",
    "Варианты МЦТ:\n",
    "- Среднее\n",
    "- Мода\n",
    "- Медиана\n",
    "- Среднее, мода\n",
    "- Медиана, мода\n",
    "- Среднее, медиана, мода\n",
    "\n",
    "Варианты мер разброса:\n",
    "- Количество уникальных значений\n",
    "- Дисперсия, Размах, Интерквартильное расстояние"
   ]
  },
  {
   "cell_type": "markdown",
   "metadata": {},
   "source": [
    "## Задание 2\n",
    "Постройте гистограммы для роста (**Height**) и веса (**Weight**) атлетов. Отметьте верные утверждения:\n",
    "\n",
    "- В даных скорее всего есть атлеты, чей вес (Weight) экстремально большой\n",
    "- В даных скорее всего есть атлеты, чей вес (Weight) экстремально низкий\n",
    "- Среднее и медиана для роста (Height) практически совпадают\n",
    "- Распределение роста (Height) атлетов похоже на нормальное"
   ]
  },
  {
   "cell_type": "code",
   "execution_count": null,
   "metadata": {},
   "outputs": [],
   "source": []
  },
  {
   "attachments": {
    "image.png": {
     "image/png": "[encoded data removed]"
    }
   },
   "cell_type": "markdown",
   "metadata": {},
   "source": [
    "## Задание 3\n",
    "На рисунке представлена гистограмма распределения роста атлетов (**Height**)\n",
    "\n",
    "![image.png](attachment:image.png)\n",
    "\n",
    "Выберите все верные утверждения:\n",
    "- Рост 68.2% атлетов находится в диапазоне от 164.82 до 185.86 см.\n",
    "- 15,7% атлетов имеют рост от 185.86 до 206.98 см\n",
    "- Рост до 185.86 см имеют 84.1% атлетов\n",
    "- Средний рост атлетов равен 175.34"
   ]
  },
  {
   "cell_type": "markdown",
   "metadata": {},
   "source": [
    "## Задание 4\n",
    "Узнайте в каком году наибольшее количество \"атлетов\" приняло участие в соревнованиях (**Sport**) по искусству (**Art Competitions**)\n",
    "\n",
    "**Решение**\n",
    "1. Найдите только строчки, соответсвующие конкурсу (**Sport**) искусств (**Art Competitions**)\n",
    "2. В отфильтрованных данных удалите повторяющихся атлетов с помощью метода `.drop_duplicates(\"ID\")`\n",
    "3. Найдите моду по признаку Year"
   ]
  },
  {
   "cell_type": "code",
   "execution_count": null,
   "metadata": {},
   "outputs": [],
   "source": []
  },
  {
   "cell_type": "markdown",
   "metadata": {},
   "source": [
    "## Задание 5"
   ]
  },
  {
   "cell_type": "markdown",
   "metadata": {},
   "source": [
    "Добавьте в таблицу новый признак **AC**, который будет представлять собой кодированные значения переменной **Sport**. Кодировку проведите следующим образом: если значение **Sport** равно **Art Competitions** – то перенесите значение как есть, в противном случае – **Other**. В ответ впишите, сколько строк датафрейма входят в категорию **Other**.\n",
    "\n",
    "*Чтобы узнать ответ, можно построить частотную таблицу по новому признаку AC*"
   ]
  },
  {
   "cell_type": "code",
   "execution_count": null,
   "metadata": {},
   "outputs": [],
   "source": []
  },
  {
   "cell_type": "markdown",
   "metadata": {},
   "source": [
    "## Задание 6\n",
    "Создайте сводную таблицу по Олимпиаде в которой приняло участие больше всего атлетов в конкурсе искусств: в рядах должны быть уникальные категории по признаку **AC**, в колонках среднее, медиана и стандартное отклонение по возрасту **Age**"
   ]
  },
  {
   "cell_type": "code",
   "execution_count": null,
   "metadata": {},
   "outputs": [],
   "source": []
  },
  {
   "cell_type": "markdown",
   "metadata": {},
   "source": [
    "## Задание 7\n",
    "По созданной сводной таблице изучите описательные статистики и выберите все верные утверждения:\n",
    "\n",
    "- Вариативность возраста выше среди атлетов выступающих в конкурсе искусств (Art Competitions)\n",
    "- В среднем возраст атлетов выступающих в конкурсе искусств (Art Competitions) и других соревнованиях (Other) не отличается\n",
    "- В данных точно есть атлет НЕ участвовавший в конкурсе искусств, чей возраст равен 24\n",
    "- В категории Other есть атлет чей возраст аномально низкий\n",
    "- В категории Art Competitions есть атлет чей возраст аномально высокий"
   ]
  },
  {
   "cell_type": "code",
   "execution_count": null,
   "metadata": {},
   "outputs": [],
   "source": []
  },
  {
   "cell_type": "markdown",
   "metadata": {},
   "source": [
    "## Задание 8\n",
    "Посчитайте следующие описательные статистики:\n",
    "1. Какой атлет (**Name**) завоевал больше всего золотых (**Gold**) медалей (**Medal**)?\n",
    "2. Среднеквадратичное отклонение возраста (**Age**) атлетов, соревнующихся в **Boxing**?\n",
    "3. В каком городе (**City**) прошла первая (**Year**) зимняя (**Winter**) Олимпиада?\n",
    "4. В каком количестве стран (**NOC**) межкварительный диапазон роста атлетов равен 8?\n",
    "    - Найдите 3 квартиль роста для каждой страны (сохраните в переменную)\n",
    "    - Найдите 1 квартиль роста для каждой страны (сохраните в переменную)\n",
    "    - Вычтите переменную с данными по 1 квартилю из переменной с данными по 3 квартилю (сохраните в переменную)\n",
    "    - Преобразуйте **Series** в **DataFrame** c помощью метода `.to_frame()`\n",
    "    - Постройте частотную таблицу по столбцу **Height** и найдите количество стран, чей межкварительный диапазон роста атлетов равен 8"
   ]
  },
  {
   "cell_type": "code",
   "execution_count": null,
   "metadata": {},
   "outputs": [],
   "source": []
  },
  {
   "cell_type": "markdown",
   "metadata": {},
   "source": [
    "## Задание 9\n",
    "Посчитайте следующие описательные статистики.\n",
    "- Дисперсию переменной Weight. Ответы округлите до сотых\n",
    "- Размах переменной Year \n",
    "- Медиану переменной Age \n",
    "- Межквартильное расстояние переменной Height"
   ]
  },
  {
   "cell_type": "code",
   "execution_count": null,
   "metadata": {},
   "outputs": [],
   "source": []
  },
  {
   "cell_type": "markdown",
   "metadata": {},
   "source": [
    "---"
   ]
  },
  {
   "cell_type": "markdown",
   "metadata": {},
   "source": [
    "# **Пропуски и выбросы**"
   ]
  },
  {
   "cell_type": "markdown",
   "metadata": {},
   "source": [
    "## Задание 10"
   ]
  },
  {
   "cell_type": "markdown",
   "metadata": {},
   "source": [
    "Сколько пропусков в каждом признаке? В этом вам поможет метод `table.isna().sum()`"
   ]
  },
  {
   "cell_type": "code",
   "execution_count": null,
   "metadata": {},
   "outputs": [],
   "source": []
  },
  {
   "cell_type": "markdown",
   "metadata": {},
   "source": [
    "## Задание 11"
   ]
  },
  {
   "cell_type": "markdown",
   "metadata": {},
   "source": [
    "На основании доли пропусков в столбце **Height** определите, какие действия можно предпринять со столбцом \n",
    "- заменить на случайное значение\n",
    "- заменить на МЦТ\n",
    "- удалить столбец\n",
    "- удалить все строки в которых есть пропуски\n",
    "\n",
    "HINT: Чтобы узнать долю пропусков в столбце воспользуйтесь методом `.value_counts()` с определенными параметрами"
   ]
  },
  {
   "cell_type": "code",
   "execution_count": null,
   "metadata": {},
   "outputs": [],
   "source": []
  },
  {
   "cell_type": "markdown",
   "metadata": {},
   "source": [
    "## Задание 12"
   ]
  },
  {
   "cell_type": "markdown",
   "metadata": {},
   "source": [
    "Замените пропуски в столбце **Height** на медиану. В ответ запишите разницу по модулю между средним значением столбца **Height** без замены пропусков и с заменой. Ответ округлите до сотых. Разделитель точка\n",
    "\n",
    "HINT: Замену можно сделать с помощью: `column.fillna(на что заменяем)`"
   ]
  },
  {
   "cell_type": "code",
   "execution_count": null,
   "metadata": {},
   "outputs": [],
   "source": []
  },
  {
   "cell_type": "markdown",
   "metadata": {},
   "source": [
    "## Задание 13"
   ]
  },
  {
   "cell_type": "markdown",
   "metadata": {},
   "source": [
    "На основании доли пропусков в столбце **Weight** определите, какие действия можно предпринять со столбцом\n",
    "\n",
    "- заменить на случайное значение\n",
    "- заменить на МЦТ\n",
    "- удалить столбец\n",
    "- удалить все строки в которых есть пропуски\n",
    "\n",
    "HINT: Чтобы узнать долю пропусков в столбце воспользуйтесь методом `.value_counts()` с определенными параметрами"
   ]
  },
  {
   "cell_type": "code",
   "execution_count": null,
   "metadata": {},
   "outputs": [],
   "source": []
  },
  {
   "cell_type": "markdown",
   "metadata": {},
   "source": [
    "## Задание 14"
   ]
  },
  {
   "cell_type": "markdown",
   "metadata": {},
   "source": [
    "Замените пропуски в столбце **Weight** на медиану. В ответ запишите произведение: среднего по столбцу Weight без замены пропусков и среднего по столбцу с заменой. Ответ округлите до сотых. Разделитель точка\n",
    "\n",
    "HINT: замену можно сделать с помощью: `column.fillna(на что заменяем)`"
   ]
  },
  {
   "cell_type": "code",
   "execution_count": null,
   "metadata": {},
   "outputs": [],
   "source": []
  },
  {
   "cell_type": "markdown",
   "metadata": {},
   "source": [
    "## Задание 15"
   ]
  },
  {
   "attachments": {
    "image-2.png": {
     "image/png": "[encoded data removed]"
    }
   },
   "cell_type": "markdown",
   "metadata": {},
   "source": [
    "Подпишите значения всех обозначений (1-7) на ящике-с-усами (box plot) по переменой **Weight**. В ответ введите целые числа\n",
    "\n",
    "![image-2.png](attachment:image-2.png)"
   ]
  },
  {
   "cell_type": "code",
   "execution_count": null,
   "metadata": {},
   "outputs": [],
   "source": []
  },
  {
   "cell_type": "markdown",
   "metadata": {},
   "source": [
    "## Задание 16"
   ]
  },
  {
   "cell_type": "markdown",
   "metadata": {},
   "source": [
    "На основе прошлого задания, посчитайте количество выбросов методом IQR в переменой Weight. Границы интервала выбросами не считаются. В ответ укажите целое число:\n",
    "\n",
    "HINTS\n",
    "- Границы вы нашли в 16 задании\n",
    "- Сделайте фильтрацию по данным и оставьте только те строчки, которые считаются выбросами\n",
    "- По отфильтрованным данным найдите количество строк с помощью свойства `.shape`"
   ]
  },
  {
   "cell_type": "code",
   "execution_count": null,
   "metadata": {},
   "outputs": [],
   "source": []
  },
  {
   "cell_type": "markdown",
   "metadata": {},
   "source": [
    "## Задание 17"
   ]
  },
  {
   "cell_type": "markdown",
   "metadata": {},
   "source": [
    "Будем считать, что выбросами считаются наблюдения, которые отличаются от среднего арифметическое на одно стандартное отклонение и больше. Укажите сколько наблюдений выбросами НЕ считается по признаку **Height**."
   ]
  },
  {
   "cell_type": "code",
   "execution_count": null,
   "metadata": {},
   "outputs": [],
   "source": []
  }
 ],
 "metadata": {
  "kernelspec": {
   "display_name": "data-analysis",
   "language": "python",
   "name": "python3"
  },
  "language_info": {
   "codemirror_mode": {
    "name": "ipython",
    "version": 3
   },
   "file_extension": ".py",
   "mimetype": "text/x-python",
   "name": "python",
   "nbconvert_exporter": "python",
   "pygments_lexer": "ipython3",
   "version": "3.12.4"
  }
 },
 "nbformat": 4,
 "nbformat_minor": 2
}
