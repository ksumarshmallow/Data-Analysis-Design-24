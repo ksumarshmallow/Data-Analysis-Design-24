{
 "cells": [
  {
   "cell_type": "markdown",
   "metadata": {},
   "source": [
    "# Анализ данных на Python\n",
    "## Практика. Группировка\n",
    "#### <i>Малкова Ксения, Преподаватель ФКН НИУ ВШЭ, kemalkova@hse.ru</i>"
   ]
  },
  {
   "cell_type": "markdown",
   "metadata": {},
   "source": [
    "Анализируем датасет с информацией об атлетах участвовавших в Олимпийских играх (**olymp.csv**)\n",
    "\n",
    "Данные содержат следующие признаки:\n",
    "- **`ID`** - уникальный номер спортсмена\n",
    "- **`Name`** - имя атлета\n",
    "- **`Sex`** - пол (мужской - M,  женский - F)\n",
    "- **`Age`** - возраст атлета\n",
    "- **`Height`** - рост (в см)\n",
    "- **`Weight`** - вес (в кг)\n",
    "- **`Team`** - cтрана\n",
    "- **`NOC`** - код страны от Олимпийского комитета (3 буквы)\n",
    "- **`Games`** - год и сезон Олимпийских игр\n",
    "- **`Year`** - год Олимпийских игр\n",
    "- **`Season`** - сезон (Зимние - Winter,  Лето - Summer)\n",
    "- **`City`** - город проведения Олимпийских игр\n",
    "- **`Sport`** - спортивная дисциплина\n",
    "- **`Event`** - категория спортивной дисциплины\n",
    "- **`Medal`** - достоинство медали (Золото - Gold, Серебро - Silver, Бронза - Bronze, Без медали - NaN)\n"
   ]
  },
  {
   "cell_type": "code",
   "execution_count": 2,
   "metadata": {},
   "outputs": [],
   "source": [
    "import pandas as pd\n",
    "\n",
    "# определите свой путь к таблице\n",
    "olmp = pd.read_csv('../../data/olymp.csv')"
   ]
  },
  {
   "cell_type": "markdown",
   "metadata": {},
   "source": [
    "## Задание 1. \n",
    "\n",
    "Найдите год проведения Олимпиады, в который средний возраст атлетов был минимальный\n",
    "\n",
    "**Алгоритм решения**\n",
    "- Сгруппируйте данные: \n",
    "    - столбец группировки - год/игра (**Year**/**Games**), \n",
    "    - столбец агрегирования - возраст (**Age**), \n",
    "    - метод агрегирования - среднее\n",
    "- Отсортируйте данные по возрастанию с помощью `.sort_values()`"
   ]
  },
  {
   "cell_type": "code",
   "execution_count": 3,
   "metadata": {},
   "outputs": [
    {
     "data": {
      "text/plain": [
       "Games\n",
       "1984 Winter    23.443241\n",
       "1896 Summer    23.580645\n",
       "1980 Winter    23.656160\n",
       "1980 Summer    23.704354\n",
       "1976 Winter    23.739459\n",
       "Name: Age, dtype: float64"
      ]
     },
     "execution_count": 3,
     "metadata": {},
     "output_type": "execute_result"
    }
   ],
   "source": [
    "olmp.groupby(['Games'])['Age'].mean().sort_values().head()"
   ]
  },
  {
   "cell_type": "markdown",
   "metadata": {},
   "source": [
    "**Ответ**: 1984"
   ]
  },
  {
   "cell_type": "markdown",
   "metadata": {},
   "source": [
    "## Задание 2\n",
    "\n",
    "Какой вид спорта (**Sport**) является самым многочисленным с точки зрения количества уникальных атлетов, принявших в нем участие?"
   ]
  },
  {
   "cell_type": "code",
   "execution_count": 5,
   "metadata": {},
   "outputs": [
    {
     "data": {
      "text/plain": [
       "Sport\n",
       "Athletics        22071\n",
       "Swimming          8765\n",
       "Rowing            7687\n",
       "Football          6161\n",
       "Cycling           5819\n",
       "                 ...  \n",
       "Croquet             10\n",
       "Racquets             7\n",
       "Roque                4\n",
       "Basque Pelota        2\n",
       "Aeronautics          1\n",
       "Name: ID, Length: 66, dtype: int64"
      ]
     },
     "execution_count": 5,
     "metadata": {},
     "output_type": "execute_result"
    }
   ],
   "source": [
    "olmp.groupby(['Sport'])['ID'].nunique().sort_values(ascending=False)"
   ]
  },
  {
   "cell_type": "markdown",
   "metadata": {},
   "source": [
    "## Задание 3\n",
    "\n",
    "Выясните, атлеты из какой страны (**Team**) завоевали наибольшее количество золотых медалей на Зимней Олимпиаде 1984 года\n",
    "\n",
    "**АЛгоритм решения**\n",
    "- Сделайте фильтрацию и оставьте только атлетов, завоевавших золотые медали на Зимней Олимпиаде 1984 года\n",
    "- На отфильтрованных данных постройте сводную таблицу: \n",
    "    - По строкам - названия стран (**Team**)\n",
    "    - В качестве колонки - **ID** атлета\n",
    "    - В ячейках - уникальное количество атлетов из каждой страны. \n",
    "\n",
    "    Чтобы получить количество уникальных атлетов воспользуйтесь методом агрегирования `.nunique()`\n",
    "- Отсортируйте данные по убыванию"
   ]
  },
  {
   "cell_type": "code",
   "execution_count": 13,
   "metadata": {},
   "outputs": [
    {
     "data": {
      "text/plain": [
       "Team\n",
       "Soviet Union       27\n",
       "Norway              6\n",
       "East Germany        6\n",
       "Sweden              5\n",
       "United States       4\n",
       "East Germany-1      4\n",
       "East Germany-2      2\n",
       "Soviet Union-1      2\n",
       "Italy               2\n",
       "Finland             2\n",
       "Great Britain-1     2\n",
       "West Germany-1      2\n",
       "Switzerland         2\n",
       "Canada              1\n",
       "West Germany        1\n",
       "Name: ID, dtype: int64"
      ]
     },
     "execution_count": 13,
     "metadata": {},
     "output_type": "execute_result"
    }
   ],
   "source": [
    "# 1. Фильтрация \n",
    "olmp_filt = olmp[(olmp['Games'] == '1984 Winter') & (olmp['Medal']=='Gold')]\n",
    "\n",
    "# 2. Сводная таблица: для каждой команды (Team) находим уникальное число (.nunqiue()) атлетов (ID)\n",
    "team_grouped = olmp_filt.groupby('Team')['ID'].nunique()\n",
    "\n",
    "# 3. Сортировка по убыванию\n",
    "# P.S.: столбец сортировки НЕ указываем, т.к. если столбец интереса один, то у него названия нет\n",
    "# и тип таблицы - не pd.DataFrame, а pd.Series, в котором всегда есть только один столбец \n",
    "# (по нему автоматически сортировка и проходит)\n",
    "\n",
    "team_grouped.sort_values(ascending=False)"
   ]
  },
  {
   "cell_type": "markdown",
   "metadata": {},
   "source": [
    "## Задание 4\n",
    "\n",
    "Определите минимальное значение разницы между максимальным ростом и весом атлетов из определенной страны. В ответ запишите положительное целое число\n",
    "\n",
    "**Алгоритм решения**\n",
    "- Создайте сводную таблицу: \n",
    "    - в рядах - короткое название страны (**NOC**), \n",
    "    - в колонках - рост (**Height**) и вес (**Weight**) атлетов\n",
    "    - в ячейках - **максимальное** значение роста и веса по каждой стране\n",
    "- В получившейся сводной таблице создайте новый признак, который будет рассчитан как разность между ростом и весом (по модулю)\n",
    "- По новому признаку найдите минимум"
   ]
  },
  {
   "cell_type": "code",
   "execution_count": 14,
   "metadata": {},
   "outputs": [
    {
     "data": {
      "text/plain": [
       "np.float64(21.0)"
      ]
     },
     "execution_count": 14,
     "metadata": {},
     "output_type": "execute_result"
    }
   ],
   "source": [
    "# 1. Сводная таблица: для каждой страны (NOC) находим максимальный (.max()) рост (Heigh) и вес (Wight) атлетов\n",
    "olmp_4 = olmp.groupby('NOC')[['Weight', 'Height']].max()\n",
    "\n",
    "# 2. Новый признак: модуль (abs) разницы между ростом и весом\n",
    "olmp_4['w_h_diff'] = abs(olmp_4['Weight'] - olmp_4['Height'])\n",
    "\n",
    "# 3. Метод аггрегации .min() для нахождения минимальной разницы\n",
    "olmp_4['w_h_diff'].min()"
   ]
  },
  {
   "cell_type": "code",
   "execution_count": 15,
   "metadata": {},
   "outputs": [
    {
     "data": {
      "text/html": [
       "<div>\n",
       "<style scoped>\n",
       "    .dataframe tbody tr th:only-of-type {\n",
       "        vertical-align: middle;\n",
       "    }\n",
       "\n",
       "    .dataframe tbody tr th {\n",
       "        vertical-align: top;\n",
       "    }\n",
       "\n",
       "    .dataframe thead th {\n",
       "        text-align: right;\n",
       "    }\n",
       "</style>\n",
       "<table border=\"1\" class=\"dataframe\">\n",
       "  <thead>\n",
       "    <tr style=\"text-align: right;\">\n",
       "      <th></th>\n",
       "      <th>Weight</th>\n",
       "      <th>Height</th>\n",
       "      <th>w_h_diff</th>\n",
       "    </tr>\n",
       "    <tr>\n",
       "      <th>NOC</th>\n",
       "      <th></th>\n",
       "      <th></th>\n",
       "      <th></th>\n",
       "    </tr>\n",
       "  </thead>\n",
       "  <tbody>\n",
       "    <tr>\n",
       "      <th>GUM</th>\n",
       "      <td>214.0</td>\n",
       "      <td>193.0</td>\n",
       "      <td>21.0</td>\n",
       "    </tr>\n",
       "    <tr>\n",
       "      <th>ESP</th>\n",
       "      <td>198.0</td>\n",
       "      <td>221.0</td>\n",
       "      <td>23.0</td>\n",
       "    </tr>\n",
       "    <tr>\n",
       "      <th>POL</th>\n",
       "      <td>190.0</td>\n",
       "      <td>215.0</td>\n",
       "      <td>25.0</td>\n",
       "    </tr>\n",
       "    <tr>\n",
       "      <th>NRU</th>\n",
       "      <td>148.0</td>\n",
       "      <td>175.0</td>\n",
       "      <td>27.0</td>\n",
       "    </tr>\n",
       "    <tr>\n",
       "      <th>VEN</th>\n",
       "      <td>178.0</td>\n",
       "      <td>206.0</td>\n",
       "      <td>28.0</td>\n",
       "    </tr>\n",
       "  </tbody>\n",
       "</table>\n",
       "</div>"
      ],
      "text/plain": [
       "     Weight  Height  w_h_diff\n",
       "NOC                          \n",
       "GUM   214.0   193.0      21.0\n",
       "ESP   198.0   221.0      23.0\n",
       "POL   190.0   215.0      25.0\n",
       "NRU   148.0   175.0      27.0\n",
       "VEN   178.0   206.0      28.0"
      ]
     },
     "execution_count": 15,
     "metadata": {},
     "output_type": "execute_result"
    }
   ],
   "source": [
    "# Альтернатива п.3 - сортировка по новому признаку\n",
    "olmp_4.sort_values('w_h_diff').head()"
   ]
  },
  {
   "cell_type": "markdown",
   "metadata": {},
   "source": [
    "## Задание 5\n",
    "\n",
    "Определите количество атлетов из Советского Союза (**Soviet Union**) чья доля успеха на олимпиаде не менее 0.5. \n",
    "\n",
    "*Показатель доли успеха рассчитывается как частное (количество завоеванных медалей к количеству категорий спортивных дисциплин, в которых они приняли участие)*\n",
    "\n",
    "**Алгоритм решения**\n",
    "- Сделайте фильтрацию и оставьте только атлетов из Советского союза\n",
    "- По отфильтрованным данным создайте сводную таблицу: в рядах - уникальный номер атлета (**ID**), в столбцах -  категория спортивной дисциплины (**Event**) и медали (**Medal**), в ячейках - количество категорий спортивных дисциплин и количество медалей для каждого атлета. Сохраните сгруппированные данные в новую переменную\n",
    "- В получившемся датафрейме создайте новый признак доля успеха\n",
    "- Сделайте фильтрацию по новому признаку"
   ]
  },
  {
   "cell_type": "code",
   "execution_count": 16,
   "metadata": {},
   "outputs": [
    {
     "data": {
      "text/plain": [
       "1453"
      ]
     },
     "execution_count": 16,
     "metadata": {},
     "output_type": "execute_result"
    }
   ],
   "source": [
    "# 1. Фильтрация\n",
    "olmp_soviet = olmp[olmp['Team'] == 'Soviet Union']\n",
    "\n",
    "# 2. Сводная таблица: для каждого атлета (ID) находим количество (count) категорий спорт. дисципцлин (Event) и медалей (Medal)\n",
    "olmp_soviet_grouped = olmp_soviet.groupby('ID')[['Event', 'Medal']].count()\n",
    "\n",
    "# 3. Новый признак: доля успеха = кол-во завоеванных медалей / кол-во категорий спорт. дисциплин\n",
    "olmp_soviet_grouped['success'] = olmp_soviet_grouped['Medal'] / olmp_soviet_grouped['Event']\n",
    "\n",
    "# 4. Фильтрация по новому признаку - ищем количество спортсменов с долей успеха более 0.5\n",
    "olmp_soviet_grouped[olmp_soviet_grouped['success'] >= 0.5].shape[0]"
   ]
  },
  {
   "cell_type": "code",
   "execution_count": 17,
   "metadata": {},
   "outputs": [
    {
     "data": {
      "text/plain": [
       "1453"
      ]
     },
     "execution_count": 17,
     "metadata": {},
     "output_type": "execute_result"
    }
   ],
   "source": [
    "# Альтернатива последнему пункту - проссумировать все True к условию фильтрации (True = 1, False = 0)\n",
    "sum(olmp_soviet_grouped['success'] >= 0.5)"
   ]
  },
  {
   "cell_type": "markdown",
   "metadata": {},
   "source": [
    "## Задание 6\n",
    "\n",
    "Определите количество Олимпиад, на которых доля женщин больше, чем средняя доля их участия в целом\n",
    "\n",
    "**Решение**\n",
    "- Создайте сводную таблицу и сохраните ее в отдельную переменную: \n",
    "    - в рядах - олимпиада (**Games**), \n",
    "    - в колонке - уникальный номер атлета (**ID**), \n",
    "    - в ячейках  - количество уникальных атлетов в каждому году. \n",
    "- Создайте сводную таблицу только по женщинам: в рядах - олимпиада (**Games**), в колонке - уникальный номер атлетки (**ID**), в ячейках  - количество уникальных атлеток в каждому году. Сохраните сводную таблицу в переменную\n",
    "- Найдите долю женщин в каждому году (найдите частное сводных таблиц). Получившуюся таблицу сохраните в новую переменную\n",
    "- Сделайте фильтрацию и оставьте, только те Олимпиады, где доля женщин больше чем среднее значение доли их участия\n",
    "- Посчитайте количество таких Олимпиад с метода `.count()`"
   ]
  },
  {
   "cell_type": "code",
   "execution_count": 19,
   "metadata": {},
   "outputs": [
    {
     "data": {
      "text/plain": [
       "np.int64(24)"
      ]
     },
     "execution_count": 19,
     "metadata": {},
     "output_type": "execute_result"
    }
   ],
   "source": [
    "# 1. Сводная таблица №1: для каждой олимпиады (Games) находим количество атлетов (ID), принявших в ней участие\n",
    "olmp_games = olmp.groupby('Games')['ID'].nunique()\n",
    "\n",
    "# 2. Сводная таблица №2\n",
    "## 2.1 Фильтрация - оставляем только женщин\n",
    "olmp_woman = olmp[olmp['Sex']=='F']\n",
    "# 2.2 Сводная таблица - для каждой олимпиады (Games) находим количество женщин-атлетов (ID), принявших в ней участие\n",
    "olmp_games_woman = olmp_woman.groupby('Games')['ID'].nunique()\n",
    "\n",
    "# 3. Считаем долю женщин для каждой олимпиады\n",
    "woman_frac = olmp_games_woman / olmp_games\n",
    "\n",
    "# 4. Находим среднюю долю женщин\n",
    "woman_frac_mean = woman_frac.mean()\n",
    "\n",
    "# 5. Фильтрация: оставляем только олимпады, где доля женщин > среднее\n",
    "olmp_games[woman_frac > woman_frac_mean].count()"
   ]
  },
  {
   "cell_type": "markdown",
   "metadata": {},
   "source": [
    "## Задание 7\n",
    "\n",
    "Создайте функцию `medal_weight`, которая на основании столбца **Medal**, определяет количество очков за медали разного достоинства:\n",
    "- 3 - Gold\n",
    "- 2 - Silver\n",
    "- 1 - Bronze\n",
    "- 0 - NaN"
   ]
  },
  {
   "cell_type": "code",
   "execution_count": 20,
   "metadata": {},
   "outputs": [],
   "source": [
    "def medal_weight(x):\n",
    "    if x == 'Gold':\n",
    "        return 3\n",
    "    elif x == 'Silver':\n",
    "        return 2\n",
    "    elif x == 'Bronze':\n",
    "        return 1\n",
    "    else:\n",
    "        return x"
   ]
  },
  {
   "cell_type": "markdown",
   "metadata": {},
   "source": [
    "## Задание 8\n",
    "\n",
    "Датафрейм лежит в переменной **olmp**. Примените функцию созданную в прошлом задании к столбцу **Medal** и создайте новый признак **Medal_score** в датафрейме **olmp**."
   ]
  },
  {
   "cell_type": "code",
   "execution_count": 21,
   "metadata": {},
   "outputs": [],
   "source": [
    "olmp['Medal_score'] = olmp['Medal'].apply(medal_weight)"
   ]
  },
  {
   "cell_type": "markdown",
   "metadata": {},
   "source": [
    "## Задание 9\n",
    "\n",
    "Определите тип данных с точки зрения анализа в новом столбце **Medal_score**\n",
    "- категориальный порядковый\n",
    "- числовой непрерывный\n",
    "- категориальный номинальный\n",
    "- **числовой дискретный**\n",
    "- категориальный номинальный бинарный"
   ]
  },
  {
   "cell_type": "markdown",
   "metadata": {},
   "source": [
    "## Задание 10\n",
    "\n",
    "Узнайте имя атлета (**Name**), который получил суммарно больше всего очков по новому столбцу **Medal_score**"
   ]
  },
  {
   "cell_type": "code",
   "execution_count": 22,
   "metadata": {},
   "outputs": [
    {
     "data": {
      "text/plain": [
       "Name\n",
       "Michael Fred Phelps, II               77.0\n",
       "Larysa Semenivna Latynina (Diriy-)    41.0\n",
       "Nikolay Yefimovich Andrianov          34.0\n",
       "Ole Einar Bjrndalen                   33.0\n",
       "Paavo Johannes Nurmi                  33.0\n",
       "                                      ... \n",
       "Hugo Dionisio Chila Ayov               0.0\n",
       "Hugo De Grauwe                         0.0\n",
       "Hugo Daini                             0.0\n",
       "Hugo Cuna                              0.0\n",
       "Hugo Gonzlez de Oliveira               0.0\n",
       "Name: Medal_score, Length: 134732, dtype: float64"
      ]
     },
     "execution_count": 22,
     "metadata": {},
     "output_type": "execute_result"
    }
   ],
   "source": [
    "olmp.groupby('Name')['Medal_score'].sum().sort_values(ascending=False)"
   ]
  }
 ],
 "metadata": {
  "kernelspec": {
   "display_name": "data-analysis",
   "language": "python",
   "name": "python3"
  },
  "language_info": {
   "codemirror_mode": {
    "name": "ipython",
    "version": 3
   },
   "file_extension": ".py",
   "mimetype": "text/x-python",
   "name": "python",
   "nbconvert_exporter": "python",
   "pygments_lexer": "ipython3",
   "version": "3.12.4"
  }
 },
 "nbformat": 4,
 "nbformat_minor": 2
}
